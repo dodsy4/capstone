{
 "cells": [
  {
   "cell_type": "code",
   "execution_count": 1,
   "metadata": {},
   "outputs": [],
   "source": [
    "from project_divert_functions import *"
   ]
  },
  {
   "cell_type": "code",
   "execution_count": 7,
   "metadata": {},
   "outputs": [],
   "source": [
    "def google_maps_distance(destinations, origins):\n",
    "    \"\"\"Fetch distance between two points.\"\"\"\n",
    "    destinations = ''.join(destinations)\n",
    "    endpoint = \"https://maps.googleapis.com/maps/api/distancematrix/json\"\n",
    "    params = {\n",
    "       'units': 'imperial',\n",
    "       'key': API_KEY,\n",
    "       'origins': origins,\n",
    "       'destinations': destinations,\n",
    "    }\n",
    "    r = requests.get(endpoint, params=params)\n",
    "    travel_values = json_extract(r.json(), 'text')\n",
    "    return travel_values"
   ]
  },
  {
   "cell_type": "code",
   "execution_count": 12,
   "metadata": {},
   "outputs": [],
   "source": [
    "def fun(material, amount, unit, site_address, traditional_address, divert_address, traditional_cost):\n",
    "    \n",
    "    if material == 'carpet tiles':\n",
    "        if unit == 'Square Meters':\n",
    "            amount=(amount*4.3)/1000\n",
    "\n",
    "    mrf_transport_carbon  = numeric_distance(traditional_address, site_address) * 0.85\n",
    "    landfill_transport_carbon = mrf_transport_carbon * 1.2\n",
    "    landfill_monetary_cost = traditional_cost + 114\n",
    "    mrf_to_reprocessor_cost = traditional_cost\n",
    "    mrf_to_reprocessor_transport_carbon = mrf_transport_carbon * 1.2\n",
    "    divert_transport_carbon  = numeric_distance(divert_address, site_address) * 0.85\n",
    "\n",
    "    g=reuse_offset.index\n",
    "    g=g.to_list()\n",
    "    error=False\n",
    "    \n",
    "    if material in g:\n",
    "        reuse_embodied_carbon = amount * reuse_offset.loc[f'{material}', 'Emission Factor (kg CO2 equivalents/ tonne)']\n",
    "    else:\n",
    "        error=True\n",
    "        print('Error!')\n",
    "        \n",
    "    g=recycle_offset.index\n",
    "    g=g.to_list()\n",
    "    \n",
    "    if material in g:\n",
    "        recycle_embodied_carbon = amount * recycle_offset.loc[f'{material}', 'Emission Factor (kg CO2 equivalents/ tonne or sq m)']\n",
    "    \n",
    "    else:\n",
    "        recycle_embodied_carbon = (amount * reuse_offset.loc[f'{material}', 'Emission Factor (kg CO2 equivalents/ tonne)'])*0.85\n",
    "        \n",
    "    return mrf_transport_carbon, landfill_transport_carbon, landfill_monetary_cost, mrf_to_reprocessor_cost, mrf_to_reprocessor_transport_carbon, divert_transport_carbon, reuse_embodied_carbon, recycle_embodied_carbon"
   ]
  },
  {
   "cell_type": "code",
   "execution_count": 14,
   "metadata": {},
   "outputs": [
    {
     "name": "stdout",
     "output_type": "stream",
     "text": [
      "9.7 mi\n",
      "17.8 mi\n"
     ]
    },
    {
     "data": {
      "text/plain": [
       "(8.245,\n",
       " 9.893999999999998,\n",
       " 660,\n",
       " 546,\n",
       " 9.893999999999998,\n",
       " 15.13,\n",
       " 114695.0,\n",
       " 97490.75)"
      ]
     },
     "execution_count": 14,
     "metadata": {},
     "output_type": "execute_result"
    }
   ],
   "source": [
    "fun('Carpet Tiles', 500, 'Sqaure Meters', 'DA146PW', 'SE57RS', 'SW13 9PY', 546)"
   ]
  },
  {
   "cell_type": "code",
   "execution_count": null,
   "metadata": {},
   "outputs": [],
   "source": []
  }
 ],
 "metadata": {
  "kernelspec": {
   "display_name": "Python 3",
   "language": "python",
   "name": "python3"
  },
  "language_info": {
   "codemirror_mode": {
    "name": "ipython",
    "version": 3
   },
   "file_extension": ".py",
   "mimetype": "text/x-python",
   "name": "python",
   "nbconvert_exporter": "python",
   "pygments_lexer": "ipython3",
   "version": "3.8.5"
  }
 },
 "nbformat": 4,
 "nbformat_minor": 4
}
